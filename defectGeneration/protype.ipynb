{
 "metadata": {
  "language_info": {
   "codemirror_mode": {
    "name": "ipython",
    "version": 3
   },
   "file_extension": ".py",
   "mimetype": "text/x-python",
   "name": "python",
   "nbconvert_exporter": "python",
   "pygments_lexer": "ipython3",
   "version": "3.8.10"
  },
  "orig_nbformat": 2,
  "kernelspec": {
   "name": "python3",
   "display_name": "Python 3.8.10 64-bit",
   "metadata": {
    "interpreter": {
     "hash": "0d7944f1888d65f5965a0f83664546a5eb737a19f1d30a41383683ae88994718"
    }
   }
  }
 },
 "nbformat": 4,
 "nbformat_minor": 2,
 "cells": [
  {
   "cell_type": "code",
   "execution_count": 5,
   "metadata": {},
   "outputs": [],
   "source": [
    "# 1. read SVG\n",
    "\n",
    "from svgpathtools.parser import parse_path\n",
    "\n",
    "import svgpathtools.svg_to_paths as reader\n",
    "\n",
    "import svgpathtools.paths2svg as writer\n",
    "\n",
    "import svgpathtools.path as Path\n",
    "\n",
    "from xml.dom.minidom import parse\n",
    "\n",
    "from os import path as os_path, getcwd\n",
    "\n",
    "import write_f as test\n",
    "\n",
    "import reader\n",
    "import numpy as np"
   ]
  },
  {
   "cell_type": "code",
   "execution_count": 2,
   "metadata": {},
   "outputs": [],
   "source": [
    "paths, atribs = reader.__read('drawing.svg')"
   ]
  },
  {
   "cell_type": "code",
   "execution_count": 3,
   "metadata": {},
   "outputs": [],
   "source": [
    "test.write_test(paths=paths['Layer 1'], filename='test.svg')"
   ]
  },
  {
   "cell_type": "code",
   "execution_count": 8,
   "metadata": {},
   "outputs": [
    {
     "output_type": "execute_result",
     "data": {
      "text/plain": [
       "[Path(Line(start=(55.940475+81.931541j), end=(135.315475+81.931541j)),\n",
       "      Line(start=(135.315475+81.931541j), end=(135.315475+141.651775j)),\n",
       "      Line(start=(135.315475+141.651775j), end=(55.940475+141.651775j)),\n",
       "      Line(start=(55.940475+141.651775j), end=(55.940475+81.931541j)))]"
      ]
     },
     "metadata": {},
     "execution_count": 8
    }
   ],
   "source": [
    "paths['Layer 1']"
   ]
  },
  {
   "cell_type": "code",
   "execution_count": 9,
   "metadata": {},
   "outputs": [],
   "source": [
    "rotation_matrix = np.matrix([[np.cos(beta), -np.sin(beta)],[np.sin(beta), np.cos(beta)]])"
   ]
  },
  {
   "cell_type": "code",
   "execution_count": 7,
   "metadata": {},
   "outputs": [],
   "source": [
    "beta = 0"
   ]
  },
  {
   "cell_type": "code",
   "execution_count": 10,
   "metadata": {},
   "outputs": [
    {
     "output_type": "execute_result",
     "data": {
      "text/plain": [
       "matrix([[ 1., -0.],\n",
       "        [ 0.,  1.]])"
      ]
     },
     "metadata": {},
     "execution_count": 10
    }
   ],
   "source": [
    "rotation_matrix"
   ]
  },
  {
   "cell_type": "code",
   "execution_count": null,
   "metadata": {},
   "outputs": [],
   "source": []
  }
 ]
}